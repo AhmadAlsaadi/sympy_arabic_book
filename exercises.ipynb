{
 "cells": [
  {
   "cell_type": "markdown",
   "id": "09b1a1de",
   "metadata": {},
   "source": [
    "Engineering mathematics, K. A. Stroud and Eexter J. Booth 8th Ed.\n",
    "Solutions to Review Exercises on page 987 Frame 25"
   ]
  },
  {
   "cell_type": "code",
   "execution_count": 4,
   "id": "9495d414",
   "metadata": {},
   "outputs": [],
   "source": [
    "import sympy as sp\n",
    "x=sp.symbols(\"x\")\n",
    "y=sp.Function(\"y\")(x)"
   ]
  },
  {
   "cell_type": "markdown",
   "id": "5da14af2",
   "metadata": {},
   "source": [
    "1. $$\\frac{dy}{dx}=\\frac{y}{x}$$"
   ]
  },
  {
   "cell_type": "code",
   "execution_count": 6,
   "id": "3c3fcfc0",
   "metadata": {},
   "outputs": [
    {
     "data": {
      "text/latex": [
       "$\\displaystyle \\frac{d}{d x} y{\\left(x \\right)} = \\frac{y{\\left(x \\right)}}{x}$"
      ],
      "text/plain": [
       "Eq(Derivative(y(x), x), y(x)/x)"
      ]
     },
     "execution_count": 6,
     "metadata": {},
     "output_type": "execute_result"
    }
   ],
   "source": [
    "eq1=sp.Eq(y.diff(x),y/x)\n",
    "eq1"
   ]
  },
  {
   "cell_type": "code",
   "execution_count": 8,
   "id": "10525c08",
   "metadata": {},
   "outputs": [
    {
     "data": {
      "text/latex": [
       "$\\displaystyle y{\\left(x \\right)} = C_{1} x$"
      ],
      "text/plain": [
       "Eq(y(x), C1*x)"
      ]
     },
     "execution_count": 8,
     "metadata": {},
     "output_type": "execute_result"
    }
   ],
   "source": [
    "sp.dsolve(eq1)"
   ]
  },
  {
   "cell_type": "markdown",
   "id": "46fdb0f7",
   "metadata": {},
   "source": [
    "2. $$\\frac{dy}{dx}=(y+2)(x+1)$$"
   ]
  },
  {
   "cell_type": "code",
   "execution_count": 9,
   "id": "42d8cc8f",
   "metadata": {},
   "outputs": [
    {
     "data": {
      "text/latex": [
       "$\\displaystyle \\frac{d}{d x} y{\\left(x \\right)} = \\left(x + 1\\right) \\left(y{\\left(x \\right)} + 2\\right)$"
      ],
      "text/plain": [
       "Eq(Derivative(y(x), x), (x + 1)*(y(x) + 2))"
      ]
     },
     "execution_count": 9,
     "metadata": {},
     "output_type": "execute_result"
    }
   ],
   "source": [
    "eq2=sp.Eq(y.diff(x),(y+2)*(x+1))\n",
    "eq2"
   ]
  },
  {
   "cell_type": "code",
   "execution_count": 10,
   "id": "16720951",
   "metadata": {},
   "outputs": [
    {
     "data": {
      "text/latex": [
       "$\\displaystyle y{\\left(x \\right)} = C_{1} e^{x \\left(\\frac{x}{2} + 1\\right)} - 2$"
      ],
      "text/plain": [
       "Eq(y(x), C1*exp(x*(x/2 + 1)) - 2)"
      ]
     },
     "execution_count": 10,
     "metadata": {},
     "output_type": "execute_result"
    }
   ],
   "source": [
    "sp.dsolve(eq2)"
   ]
  },
  {
   "cell_type": "markdown",
   "id": "0d2b4574",
   "metadata": {},
   "source": [
    "3. $$cos^2x\\frac{dy}{dx}=y+3$$"
   ]
  },
  {
   "cell_type": "code",
   "execution_count": 15,
   "id": "5d0c02b7",
   "metadata": {},
   "outputs": [
    {
     "data": {
      "text/latex": [
       "$\\displaystyle \\cos^{2}{\\left(x \\right)} \\frac{d}{d x} y{\\left(x \\right)} = y{\\left(x \\right)} + 3$"
      ],
      "text/plain": [
       "Eq(cos(x)**2*Derivative(y(x), x), y(x) + 3)"
      ]
     },
     "execution_count": 15,
     "metadata": {},
     "output_type": "execute_result"
    }
   ],
   "source": [
    "eq3=sp.Eq(sp.cos(x)**2*y.diff(x),(y+3))\n",
    "eq3"
   ]
  },
  {
   "cell_type": "code",
   "execution_count": 16,
   "id": "bcec5aa8",
   "metadata": {},
   "outputs": [
    {
     "data": {
      "text/latex": [
       "$\\displaystyle y{\\left(x \\right)} = C_{1} e^{\\tan{\\left(x \\right)}} - 3$"
      ],
      "text/plain": [
       "Eq(y(x), C1*exp(tan(x)) - 3)"
      ]
     },
     "execution_count": 16,
     "metadata": {},
     "output_type": "execute_result"
    }
   ],
   "source": [
    "sp.dsolve(eq3)"
   ]
  },
  {
   "cell_type": "markdown",
   "id": "0879beb4",
   "metadata": {},
   "source": [
    "4. $$\\frac{dy}{dx}=xy-y$$"
   ]
  },
  {
   "cell_type": "code",
   "execution_count": 18,
   "id": "7c0d24ba",
   "metadata": {},
   "outputs": [
    {
     "data": {
      "text/latex": [
       "$\\displaystyle \\frac{d}{d x} y{\\left(x \\right)} = x y{\\left(x \\right)} - y{\\left(x \\right)}$"
      ],
      "text/plain": [
       "Eq(Derivative(y(x), x), x*y(x) - y(x))"
      ]
     },
     "execution_count": 18,
     "metadata": {},
     "output_type": "execute_result"
    }
   ],
   "source": [
    "eq4=sp.Eq(y.diff(x),(x*y-y))\n",
    "eq4"
   ]
  },
  {
   "cell_type": "code",
   "execution_count": 19,
   "id": "5ca66c10",
   "metadata": {},
   "outputs": [
    {
     "data": {
      "text/latex": [
       "$\\displaystyle y{\\left(x \\right)} = C_{1} e^{x \\left(\\frac{x}{2} - 1\\right)}$"
      ],
      "text/plain": [
       "Eq(y(x), C1*exp(x*(x/2 - 1)))"
      ]
     },
     "execution_count": 19,
     "metadata": {},
     "output_type": "execute_result"
    }
   ],
   "source": [
    "sp.dsolve(eq4)"
   ]
  },
  {
   "cell_type": "markdown",
   "id": "f08bddb5",
   "metadata": {},
   "source": [
    "5. $$\\frac{sinx}{1+y}\\frac{dy}{dx}=cosx$$"
   ]
  },
  {
   "cell_type": "code",
   "execution_count": 20,
   "id": "2adaf2cd",
   "metadata": {},
   "outputs": [
    {
     "data": {
      "text/latex": [
       "$\\displaystyle \\frac{\\sin{\\left(x \\right)} \\frac{d}{d x} y{\\left(x \\right)}}{y{\\left(x \\right)} + 1} = \\cos{\\left(x \\right)}$"
      ],
      "text/plain": [
       "Eq(sin(x)*Derivative(y(x), x)/(y(x) + 1), cos(x))"
      ]
     },
     "execution_count": 20,
     "metadata": {},
     "output_type": "execute_result"
    }
   ],
   "source": [
    "eq5=sp.Eq(sp.sin(x)/(1+y)*y.diff(x),sp.cos(x))\n",
    "eq5"
   ]
  },
  {
   "cell_type": "code",
   "execution_count": 22,
   "id": "41acad45",
   "metadata": {},
   "outputs": [
    {
     "data": {
      "text/latex": [
       "$\\displaystyle y{\\left(x \\right)} = C_{1} \\sin{\\left(x \\right)} - 1$"
      ],
      "text/plain": [
       "Eq(y(x), C1*sin(x) - 1)"
      ]
     },
     "execution_count": 22,
     "metadata": {},
     "output_type": "execute_result"
    }
   ],
   "source": [
    "sp.dsolve(eq5)"
   ]
  }
 ],
 "metadata": {
  "kernelspec": {
   "display_name": "Python 3 (ipykernel)",
   "language": "python",
   "name": "python3"
  },
  "language_info": {
   "codemirror_mode": {
    "name": "ipython",
    "version": 3
   },
   "file_extension": ".py",
   "mimetype": "text/x-python",
   "name": "python",
   "nbconvert_exporter": "python",
   "pygments_lexer": "ipython3",
   "version": "3.11.0"
  }
 },
 "nbformat": 4,
 "nbformat_minor": 5
}
